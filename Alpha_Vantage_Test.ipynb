{
  "nbformat": 4,
  "nbformat_minor": 0,
  "metadata": {
    "colab": {
      "provenance": []
    },
    "kernelspec": {
      "name": "python3",
      "display_name": "Python 3"
    },
    "language_info": {
      "name": "python"
    }
  },
  "cells": [
    {
      "cell_type": "code",
      "execution_count": 3,
      "metadata": {
        "colab": {
          "base_uri": "https://localhost:8080/"
        },
        "id": "t1WogsOAnylb",
        "outputId": "cca62f9e-4a63-4b50-84b5-918e82a0340e"
      },
      "outputs": [
        {
          "output_type": "stream",
          "name": "stdout",
          "text": [
            "Collecting alpha_vantage\n",
            "  Downloading alpha_vantage-3.0.0-py3-none-any.whl.metadata (12 kB)\n",
            "Requirement already satisfied: aiohttp in /usr/local/lib/python3.10/dist-packages (from alpha_vantage) (3.10.8)\n",
            "Requirement already satisfied: requests in /usr/local/lib/python3.10/dist-packages (from alpha_vantage) (2.32.3)\n",
            "Requirement already satisfied: aiohappyeyeballs>=2.3.0 in /usr/local/lib/python3.10/dist-packages (from aiohttp->alpha_vantage) (2.4.3)\n",
            "Requirement already satisfied: aiosignal>=1.1.2 in /usr/local/lib/python3.10/dist-packages (from aiohttp->alpha_vantage) (1.3.1)\n",
            "Requirement already satisfied: attrs>=17.3.0 in /usr/local/lib/python3.10/dist-packages (from aiohttp->alpha_vantage) (24.2.0)\n",
            "Requirement already satisfied: frozenlist>=1.1.1 in /usr/local/lib/python3.10/dist-packages (from aiohttp->alpha_vantage) (1.4.1)\n",
            "Requirement already satisfied: multidict<7.0,>=4.5 in /usr/local/lib/python3.10/dist-packages (from aiohttp->alpha_vantage) (6.1.0)\n",
            "Requirement already satisfied: yarl<2.0,>=1.12.0 in /usr/local/lib/python3.10/dist-packages (from aiohttp->alpha_vantage) (1.13.1)\n",
            "Requirement already satisfied: async-timeout<5.0,>=4.0 in /usr/local/lib/python3.10/dist-packages (from aiohttp->alpha_vantage) (4.0.3)\n",
            "Requirement already satisfied: charset-normalizer<4,>=2 in /usr/local/lib/python3.10/dist-packages (from requests->alpha_vantage) (3.3.2)\n",
            "Requirement already satisfied: idna<4,>=2.5 in /usr/local/lib/python3.10/dist-packages (from requests->alpha_vantage) (3.10)\n",
            "Requirement already satisfied: urllib3<3,>=1.21.1 in /usr/local/lib/python3.10/dist-packages (from requests->alpha_vantage) (2.2.3)\n",
            "Requirement already satisfied: certifi>=2017.4.17 in /usr/local/lib/python3.10/dist-packages (from requests->alpha_vantage) (2024.8.30)\n",
            "Requirement already satisfied: typing-extensions>=4.1.0 in /usr/local/lib/python3.10/dist-packages (from multidict<7.0,>=4.5->aiohttp->alpha_vantage) (4.12.2)\n",
            "Downloading alpha_vantage-3.0.0-py3-none-any.whl (35 kB)\n",
            "Installing collected packages: alpha_vantage\n",
            "Successfully installed alpha_vantage-3.0.0\n"
          ]
        }
      ],
      "source": [
        "pip install alpha_vantage"
      ]
    },
    {
      "cell_type": "code",
      "source": [
        "from alpha_vantage.timeseries import TimeSeries\n",
        "from alpha_vantage.fundamentaldata import FundamentalData\n",
        "from alpha_vantage.foreignexchange import ForeignExchange\n",
        "from alpha_vantage.commodities import Commodities\n",
        "from alpha_vantage.options import Options\n",
        "from alpha_vantage.cryptocurrencies import CryptoCurrencies\n",
        "#from alpha_vantage.econindicators import EconIndicators\n",
        "#from alpha_vantage.techindicators import TechIndicators"
      ],
      "metadata": {
        "id": "gJZognBOn25S"
      },
      "execution_count": 29,
      "outputs": []
    },
    {
      "cell_type": "code",
      "source": [
        "api_key = \"PYCL9JYO5GOU1RU0\" #You can enter your own API key here"
      ],
      "metadata": {
        "id": "o5FZ8qDzofHV"
      },
      "execution_count": 6,
      "outputs": []
    },
    {
      "cell_type": "markdown",
      "source": [
        "**This is for extracting TimeSeries Data From AlphaVantage**"
      ],
      "metadata": {
        "id": "BchqSqD7yRy7"
      }
    },
    {
      "cell_type": "code",
      "source": [
        "ticker = input(\"Enter Ticker value:\")\n",
        "print(f\"Time Interval options:\\n Intraday, \\n Daily,\\n Daily_Adjusted ,\\n Weekly,\\n Weekly_Adjusted,\\n Monthly,\\n Monthly_Adjusted \")\n",
        "time_interval = input(\"Enter Time Interval value: \")\n",
        "\n",
        "ts = TimeSeries(key=api_key,output_format='pandas')\n",
        "\n",
        "if time_interval == \"Intraday\":\n",
        "    Interval = input(\"Enter Interval in min:\")\n",
        "    data_intraday = ts.get_intraday(ticker,interval=Interval)\n",
        "    print(data_intraday)\n",
        "elif time_interval == \"Daily\":\n",
        "    data_daily = ts.get_daily(ticker)\n",
        "    print(data_daily)\n",
        "elif time_interval == \"Daily_Adjusted\":\n",
        "    data_daily_adjusted = ts.get_daily_adjusted(ticker)\n",
        "    print(data_daily_adjusted)\n",
        "elif time_interval == \"Weekly\":\n",
        "    data_weekly = ts.get_weekly(ticker)\n",
        "    print(data_weekly)\n",
        "elif time_interval == \"Weekly_Adjusted\":\n",
        "    data_weekly_adjusted = ts.get_weekly_adjusted(ticker)\n",
        "    print(data_weekly_adjusted)\n",
        "elif time_interval == \"Monthly\":\n",
        "    data_monthly = ts.get_monthly(ticker)\n",
        "    print(data_monthly)\n",
        "elif time_interval == \"Monthly_Adjusted\":\n",
        "    data_monthly_adjusted = ts.get_monthly_adjusted(ticker)\n",
        "    print(data_monthly_adjusted)\n",
        "else:\n",
        "   print(\"Wrong_input\")\n"
      ],
      "metadata": {
        "id": "uAUL8xJHovX7"
      },
      "execution_count": null,
      "outputs": []
    },
    {
      "cell_type": "markdown",
      "source": [
        "**This is for extracting Fundamental Data From AlphaVantage**"
      ],
      "metadata": {
        "id": "ZDF6A_7_mS-u"
      }
    },
    {
      "cell_type": "code",
      "source": [
        "ticker = input(\"Enter Ticker\")\n",
        "lst_fd = ['Balancesheetannual','Balancesheetquarterly','Cashflowannual','Cashflowquarterly','Companyoverview','Incomestatementannual','Incomestatementquarterly','Earningsannual','Earningsquarterly','Splits','Dividends']\n",
        "print(lst_fd)\n",
        "param = input(\"Enter Fundamental Data Parameters: \")\n",
        "fd = FundamentalData(key=api_key,output_format='pandas')\n",
        "\n",
        "if param == 'Balancesheetannual':\n",
        "    bs_annual = fd.get_balance_sheet_annual(ticker)\n",
        "    print(bs_annual)\n",
        "elif param == 'Balancesheetquarterly':\n",
        "    bs_quarterly = fd.get_balance_sheet_quarterly(ticker)\n",
        "    print(bs_quarterly)\n",
        "elif param == 'Cashflowannual':\n",
        "    cf_annual = fd.get_cash_flow_annual(ticker)\n",
        "    print(cf_annual)\n",
        "elif param == 'Cashflowquarterly':\n",
        "    cf_quarterly = fd.get_cash_flow_quarterly(ticker)\n",
        "    print(cf_quarterly)\n",
        "elif param == 'Companyoverview':\n",
        "    comp_overview = fd.get_company_overview(ticker)\n",
        "    print(comp_overview)\n",
        "elif param == 'Incomestatementannual':\n",
        "    is_annual = fd.get_income_statement_annual(ticker)\n",
        "    print(is_annual)\n",
        "elif param == 'Incomestatementquarterly':\n",
        "    is_quarterly = fd.get_income_statement_quarterly(ticker)\n",
        "    print(is_quarterly)\n",
        "elif param == 'Earningsannual':\n",
        "    earn_annual = fd.get_earnings_annual(ticker)\n",
        "    print(earn_annual)\n",
        "elif param == 'Earningsquarterly':\n",
        "    earn_quarterly = fd.get_earnings_quarterly(ticker)\n",
        "    print(earn_quarterly)\n",
        "elif param == 'Splits':\n",
        "    splits = fd.get_splits(ticker)\n",
        "    print(splits)\n",
        "elif param == 'Dividends':\n",
        "    dividends = fd.get_dividends(ticker)\n",
        "    print(dividends)\n",
        "else :\n",
        "    print(\"Wrong Fundamental Data Parameter\")"
      ],
      "metadata": {
        "id": "7O4MDbiKmhFC"
      },
      "execution_count": null,
      "outputs": []
    },
    {
      "cell_type": "markdown",
      "source": [
        "**This is for extracting FOREX Data From AlphaVantage**"
      ],
      "metadata": {
        "id": "gs9NKNZ9uffu"
      }
    },
    {
      "cell_type": "code",
      "source": [
        "func = input(\"Enter functionality: \\n 1.CurrencyExchange \\n 2.CurrencyExchangeRate \\n\")\n",
        "\n",
        "fx = ForeignExchange(key=api_key,output_format='pandas')\n",
        "\n",
        "if func == \"CurrencyExchange\":\n",
        "    #Currency You want to exchange\n",
        "    symbol_1 = input(\"Enter Currency Symbol: Eg: INR \")\n",
        "    #Currency You want to exchange to\n",
        "    symbol_2 = input(\"Enter Currency Symbol: Eg: USD \")\n",
        "    lst = ['daily','weekly','monthly']\n",
        "    print(lst)\n",
        "    time_period = input(\"Enter Time period :\")\n",
        "    if time_period == 'daily':\n",
        "       ce_daily = fx.get_currency_exchange_daily(from_symbol=symbol_1 , to_symbol=symbol_2)\n",
        "       print(ce_daily)\n",
        "    elif time_period == 'weekly':\n",
        "       ce_weekly = fx.get_currency_exchange_weekly(from_symbol=symbol_1 , to_symbol=symbol_2)\n",
        "       print(ce_weekly)\n",
        "    elif time_period == 'monthly':\n",
        "       ce_monthly = fx.get_currency_exchange_monthly(from_symbol=symbol_1 , to_symbol=symbol_2)\n",
        "       print(ce_monthly)\n",
        "    else:\n",
        "       print(\"Wrong time period\")\n",
        "    #ce_intraday = fx.get_currency_exchange_intraday(to_symbol=symbol_1) -- Premium Endpoint\n",
        "\n",
        "elif func == \"CurrencyExchangeRate\":\n",
        "    currency_1 = input(\"Enter First Currency: \")\n",
        "    currency_2 = input(\"Enter Second Currency: \")\n",
        "    cer = fx.get_currency_exchange_rate(from_currency=currency_1,to_currency=currency_2)\n",
        "    print(cer)\n",
        "\n",
        "else:\n",
        "    print(\"Wrong Functionality\")"
      ],
      "metadata": {
        "id": "MtzqWIPkoY24"
      },
      "execution_count": null,
      "outputs": []
    },
    {
      "cell_type": "markdown",
      "source": [
        "**This is for extracting commodities Data From AlphaVantage**"
      ],
      "metadata": {
        "id": "IRqVv9pqoS28"
      }
    },
    {
      "cell_type": "code",
      "source": [
        "cd = Commodities(key=api_key,output_format='pandas')\n",
        "comm_lst = [\"Copper\",\"Aluminum\",\"NaturalGas\",\"Wheat\",\"Cotton\",\"Coffee\",\"Corn\",\"Sugar\",\"Brent\",\"PriceIndex\",\"Wti\"]\n",
        "print(comm_lst)\n",
        "commodity = input(\"Enter your commodity: \")\n",
        "int_lst = [\"monthly\",\"quarterly\",\"annual\"]\n",
        "print(int_lst)\n",
        "Interval = input(\"Enter Interval Value: \")\n",
        "if commodity == \"Copper\":\n",
        "    copper = cd.get_copper(interval=Interval)\n",
        "    print(copper)\n",
        "elif commodity == \"Aluminum\":\n",
        "    aluminum = cd.get_aluminum(interval=Interval)\n",
        "    print(aluminum)\n",
        "elif commodity == \"NaturalGas\":\n",
        "    natural_gas = cd.get_natural_gas(interval=Interval)\n",
        "    print(natural_gas)\n",
        "elif commodity == \"Wheat\":\n",
        "    wheat = cd.get_wheat(interval=Interval)\n",
        "    print(wheat)\n",
        "elif commodity == \"Cotton\":\n",
        "    cotton = cd.get_cotton(interval=Interval)\n",
        "    print(cotton)\n",
        "elif commodity == \"Coffee\":\n",
        "    coffee = cd.get_coffee(interval=Interval)\n",
        "    print(coffee)\n",
        "elif commodity == \"Corn\":\n",
        "    corn = cd.get_corn(interval=Interval)\n",
        "    print(corn)\n",
        "elif commodity == \"Sugar\":\n",
        "    sugar = cd.get_sugar(interval=Interval)\n",
        "    print(sugar)\n",
        "elif commodity == \"Brent\":\n",
        "    brent = cd.get_brent(interval=Interval)\n",
        "    print(brent)\n",
        "elif commodity == \"PriceIndex\":\n",
        "    price_index = cd.get_price_index(interval=Interval)\n",
        "    print(price_index)\n",
        "elif commodity == \"Wti\":\n",
        "    wti = cd.get_wti(interval=Interval)\n",
        "    print(wti)\n",
        "else:\n",
        "    print(\"Wrong Input\")"
      ],
      "metadata": {
        "id": "y5CBFJ2ZgYE8"
      },
      "execution_count": null,
      "outputs": []
    },
    {
      "cell_type": "markdown",
      "source": [
        "**This is for extracting options Data From AlphaVantage**"
      ],
      "metadata": {
        "id": "dbcll7KLwhbk"
      }
    },
    {
      "cell_type": "code",
      "source": [
        "opt = Options(key=api_key,output_format='pandas')\n",
        "ticker = input(\"Enter Ticker: \")\n",
        "print(f\"Enter options \\n Historical Or Realtime\")\n",
        "opt_type = input(\"Enter Option type: \")\n",
        "if opt_type == \"Historical\":\n",
        "    hist_opt_data = opt.get_historical_options(ticker)\n",
        "    print(hist_opt_data)\n",
        "elif opt_type == \"Realtime\":\n",
        "    realtime_opt_data = opt.get_realtime_options(ticker)\n",
        "    print(realtime_opt_data)\n",
        "else:\n",
        "    print(\"Wrong Input\")"
      ],
      "metadata": {
        "id": "Q5n6UkRG6VXO"
      },
      "execution_count": null,
      "outputs": []
    },
    {
      "cell_type": "markdown",
      "source": [
        "**This is for extracting options Data From AlphaVantage**"
      ],
      "metadata": {
        "id": "_xaVH_RL3bl_"
      }
    },
    {
      "cell_type": "code",
      "source": [
        "crypto = CryptoCurrencies(key=api_key,output_format='csv')\n",
        "func = input(\"Enter functionality: \\n DigitalCurrency or DigitalCurrencyExchangeRate \\n\")\n",
        "\n",
        "if func == \"DigitalCurrency\":\n",
        "    Ticker = input(\"Enter Ticker: eg: BTC \")\n",
        "    Market = input(\"Enter Exchange Market: eg: EUR \")\n",
        "    Time_lst = [\"Daily\",\"Weekly\",\"Monthly\"]\n",
        "    print(Time_lst)\n",
        "    Time = input(\"Enter Time: \")\n",
        "    if Time == \"Daily\":\n",
        "        dc_daily = crypto.get_digital_currency_daily(symbol=Ticker,market=Market)\n",
        "        print(dc_daily)\n",
        "    elif Time == \"Weekly\":\n",
        "        dc_weekly = crypto.get_digital_currency_weekly(symbol=Ticker,market=Market)\n",
        "        print(dc_weekly)\n",
        "    elif Time == \"Monthly\":\n",
        "        dc_monthly = crypto.get_digital_currency_monthly(symbol=Ticker,market=Market)\n",
        "        print(dc_monthly)\n",
        "    else:\n",
        "        print(\"Wrong Input\")\n",
        "elif func == \"DigitalCurrencyExchangeRate\":\n",
        "    currency = input(\"Enter Currency: eg: EUR \")\n",
        "    exchange_currency = input(\"Enter Exchange Currency: eg: USD \")\n",
        "    dc_cer = crypto.get_digital_currency_exchange_rate(from_currency=currency,to_currency=exchange_currency)\n",
        "    print(dc_cer)\n",
        "else:\n",
        "    print(\"Wrong Input\")\n",
        "\n"
      ],
      "metadata": {
        "id": "XD0I-YAAt4LA"
      },
      "execution_count": null,
      "outputs": []
    },
    {
      "cell_type": "code",
      "source": [
        "from google.colab import drive\n",
        "drive.mount('/content/drive')"
      ],
      "metadata": {
        "id": "_dwcLP0s54ng"
      },
      "execution_count": null,
      "outputs": []
    },
    {
      "cell_type": "code",
      "source": [],
      "metadata": {
        "id": "s4X19giq4uXb"
      },
      "execution_count": null,
      "outputs": []
    }
  ]
}